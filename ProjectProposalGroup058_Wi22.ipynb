{
  "cells": [
    {
      "cell_type": "markdown",
      "metadata": {
        "id": "view-in-github",
        "colab_type": "text"
      },
      "source": [
        "<a href=\"https://colab.research.google.com/github/yuz047/COGS108_Repo/blob/main/ProjectProposalGroup058_Wi22.ipynb\" target=\"_parent\"><img src=\"https://colab.research.google.com/assets/colab-badge.svg\" alt=\"Open In Colab\"/></a>"
      ]
    },
    {
      "cell_type": "markdown",
      "metadata": {
        "id": "EFoWx6QJraWl"
      },
      "source": [
        "# COGS 108 - Final Project Proposal"
      ]
    },
    {
      "cell_type": "markdown",
      "metadata": {
        "id": "optuSShZraWn"
      },
      "source": [
        "# Names\n",
        "\n",
        "- Yunhan Zhang\n",
        "- Shenghao Weng\n",
        "- Zachary Li Norman\n",
        "- Leonardo Guillen"
      ]
    },
    {
      "cell_type": "markdown",
      "metadata": {
        "id": "vv1qA1aLraWn"
      },
      "source": [
        "# Research Question"
      ]
    },
    {
      "cell_type": "markdown",
      "metadata": {
        "id": "ocfG9MWLraWn"
      },
      "source": [
        "* Our research question is which area will be more likely to have an electricity outage. Is there a particular feature contributes to an outage?\n"
      ]
    },
    {
      "cell_type": "markdown",
      "metadata": {
        "id": "XPZ6b0yiraWn"
      },
      "source": [
        "## Background and Prior Work"
      ]
    },
    {
      "cell_type": "markdown",
      "metadata": {
        "id": "-g7cdmF-raWo"
      },
      "source": [
        "There are some prior work on this question. For example, the US energy department's research has shown that a serious weather may be the major cause of an outage. Klinger's review also shows that a serious flood causes power shortage and threatens people's lives.\n",
        "\n",
        "References (include links):\n",
        "- 1) https://www.energy.gov/sites/prod/files/2013/08/f2/Grid%20Resiliency%20Report_FINAL.pdf\n",
        "- 2) https://engineering.purdue.edu/LASCI/research-data/outages/outagerisks\n",
        "- 3) https://www.ncbi.nlm.nih.gov/pmc/articles/PMC3879211/\n"
      ]
    },
    {
      "cell_type": "markdown",
      "metadata": {
        "id": "ZCteGwMdraWo"
      },
      "source": [
        "# Hypothesis\n"
      ]
    },
    {
      "cell_type": "markdown",
      "metadata": {
        "id": "m-h3GBTCraWo"
      },
      "source": [
        "Apart from serious weathers, we hypothesize that there will be a strong correlation between population and outage. Outages may occur more frequently in populated areas because of peak consumption. To find this relationship, we will count the number of outages by each region. Then by having the regions' population density, we can calculate the correlation between population density and frequency of outages. This work is achievable. The introduced data set has columns including population density and the region name. It is easy to group them by region name and count the rows of each region, which is the frequency of outages. This project will deliver the correlation between population density and the frequency of outages. We conclude that they are strongly correlated if the calculated statistic is larger than 0.7  by convention, and we shall do further research upon this discovery. \n",
        "\n",
        "Alternatively, population density is a driving force of outages, but it may not be significant. We see electricity facility maintenance will be less frequent in poor areas, which may be the crucial one. The logic is intuitive. Areas with more money will do maintenance more often, while the poor areas do not have enough resources to offer such high-quality service. We could verify this hypothesis by a similar analysis mentioned above. We will do a correlation analysis between the frequency of outages and unit electricity prices. We shall also do the correlation analysis with GSP, Gross State Production, to evaluate the relationship between outages and local wealth. Though we cannot confirm the relationship between electricity prices and their maintenance frequency, the correlation is still helpful to do the research. After conducting this analysis, we shall find which has a stronger correlation, that is to say, potential effect to electricity outages. By comparing those two, we will be able to confirm which hypothesis is more likely to be the primary driving force to the outages.\n",
        "\n",
        "\n",
        "> Indented block\n",
        "\n"
      ]
    },
    {
      "cell_type": "markdown",
      "metadata": {
        "id": "NE4XXQIXraWo"
      },
      "source": [
        "# Data"
      ]
    },
    {
      "cell_type": "markdown",
      "metadata": {
        "id": "ej1G5XLeraWo"
      },
      "source": [
        "We will use Major Power Outage Risks in the U.S. from Purdue University. This project uses major power outage data in the continental U.S. from January 2000 to July 2016. Each datum records where the outage occurred, when the outage occurred and was restored, the weather on that day, and other different features. The dataset is in xlsx format and has 1500+ entries, about 600kb. "
      ]
    },
    {
      "cell_type": "markdown",
      "metadata": {
        "id": "q_MVABZpraWo"
      },
      "source": [
        "# Ethics & Privacy"
      ]
    },
    {
      "cell_type": "markdown",
      "metadata": {
        "id": "F2AzjiJCraWp"
      },
      "source": [
        "There are no biases or privacy issues with the dataset we will be using. The dataset does not include any information on specific individuals. There are no biases in the data as it only recorded outages that actually occurred. Because no individual information is present in the dataset, a mechanism that fulfills the right for an individual to request their information be pulled is not needed."
      ]
    },
    {
      "cell_type": "markdown",
      "metadata": {
        "id": "dO2iAbQ8raWp"
      },
      "source": [
        "# Team Expectations "
      ]
    },
    {
      "cell_type": "markdown",
      "metadata": {
        "id": "7NcQpAn8raWp"
      },
      "source": [
        "* Everyone in the group should show up to the agreed, weekly meeting times (via zoom)\n",
        "*  Instead of collaborating together on each part, we will split up the segments of the project based on skill-sets (unless a certain section is better suited when we all contribute)\n",
        "* Each member contributes to their respective role and completes their work on time\n",
        "* If someone is not fully contributing or is constantly late, we will respectfully address the issue upfront.\n"
      ]
    },
    {
      "cell_type": "markdown",
      "metadata": {
        "id": "s1xn4oGIraWp"
      },
      "source": [
        "# Project Timeline Proposal"
      ]
    },
    {
      "cell_type": "markdown",
      "metadata": {
        "id": "7Gjxsl3nraWq"
      },
      "source": [
        "| Meeting Date  | Meeting Time| Completed Before Meeting  | Discuss at Meeting |\n",
        "|---|---|---|---|\n",
        "| 1/20  |  1 PM | Read & Think about COGS 108 expectations; brainstorm topics/questions  | Determine best form of communication; Discuss and decide on final project topic; discuss hypothesis; begin background research | \n",
        "| 1/26  |  10 AM |  Do background research on topic | Discuss ideal dataset(s) and ethics; draft project proposal | \n",
        "| 2/1  | 10 AM  | Edit, finalize, and submit proposal; Search for datasets  | Discuss Wrangling and possible analytical approaches; Assign group members to lead each specific part   |\n",
        "| 2/14  | 6 PM  | Import & Wrangle Data (Ant Man); EDA (Hulk) | Review/Edit wrangling/EDA; Discuss Analysis Plan   |\n",
        "| 2/23  | 12 PM  | Finalize wrangling/EDA; Begin Analysis (Iron Man; Thor) | Discuss/edit Analysis; Complete project check-in |\n",
        "| 3/13  | 12 PM  | Complete analysis; Draft results/conclusion/discussion (Wasp)| Discuss/edit full project |\n",
        "| 3/19  | Before 11:59 PM  | NA | Turn in Final Project & Group Project Surveys |"
      ]
    }
  ],
  "metadata": {
    "kernelspec": {
      "display_name": "Python 3",
      "language": "python",
      "name": "python3"
    },
    "language_info": {
      "codemirror_mode": {
        "name": "ipython",
        "version": 3
      },
      "file_extension": ".py",
      "mimetype": "text/x-python",
      "name": "python",
      "nbconvert_exporter": "python",
      "pygments_lexer": "ipython3",
      "version": "3.7.9"
    },
    "colab": {
      "name": "ProjectProposalGroup058-Wi22.ipynb",
      "provenance": [],
      "collapsed_sections": [],
      "include_colab_link": true
    }
  },
  "nbformat": 4,
  "nbformat_minor": 0
}